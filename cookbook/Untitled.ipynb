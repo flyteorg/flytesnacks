{
 "cells": [
  {
   "cell_type": "code",
   "execution_count": 8,
   "id": "cfad99d9-5e09-4b0c-8105-534ab1ed4b71",
   "metadata": {},
   "outputs": [],
   "source": [
    "import typing\n",
    "import random\n",
    "import numpy as np\n",
    "import matplotlib.pyplot as plt\n",
    "from flytekit.remote.remote import FlyteRemote\n",
    "from flytekit.configuration import Config\n",
    "from flytekit.models.core.identifier import NodeExecutionIdentifier, WorkflowExecutionIdentifier\n",
    "from flytekit.extend import TypeEngine\n",
    "from flytekit import FlyteContextManager"
   ]
  },
  {
   "cell_type": "code",
   "execution_count": 10,
   "id": "f890be54-3872-4456-8176-c68afecd7ffc",
   "metadata": {},
   "outputs": [],
   "source": [
    "r = FlyteRemote(\n",
    "    Config.auto(config_file=\"/Users/ytong/.flyte/dev.yaml\"),\n",
    "    default_project=\"flytesnacks\",\n",
    "    default_domain=\"development\",\n",
    ")"
   ]
  },
  {
   "cell_type": "code",
   "execution_count": 11,
   "id": "93c1f577-dbaa-46b8-acf5-b741fdd01404",
   "metadata": {},
   "outputs": [],
   "source": [
    "node_io = r.client.get_node_execution_data(NodeExecutionIdentifier(\"n0\", WorkflowExecutionIdentifier(\"flytesnacks\", \"development\", \"a646t6c76kvchvh2scld\")))"
   ]
  },
  {
   "cell_type": "code",
   "execution_count": 12,
   "id": "7184f016-b542-45bc-b33a-6ac25fccb192",
   "metadata": {},
   "outputs": [
    {
     "data": {
      "text/plain": [
       "scalar {\n",
       "  blob {\n",
       "    metadata {\n",
       "      type {\n",
       "        format: \"NumpyArray\"\n",
       "      }\n",
       "    }\n",
       "    uri: \"s3://development-service-flyte/data/fo/a646t6c76kvchvh2scld-n0-0/6bfa389453383ab8179c6770d1f3fe92/b0f17c889a588ed9bdb19ace154bee1a.npy\"\n",
       "  }\n",
       "}"
      ]
     },
     "execution_count": 12,
     "metadata": {},
     "output_type": "execute_result"
    }
   ],
   "source": [
    "node_io.full_outputs.literals[\"o0\"]"
   ]
  },
  {
   "cell_type": "code",
   "execution_count": 15,
   "id": "4901c0c6-55ff-4caa-86a4-aec7507b8f3f",
   "metadata": {},
   "outputs": [],
   "source": [
    "arr = TypeEngine.to_python_value(FlyteContextManager.current_context(), node_io.full_outputs.literals[\"o0\"], expected_python_type=np.ndarray)"
   ]
  },
  {
   "cell_type": "code",
   "execution_count": 16,
   "id": "6315fdcd-44a0-4252-a5de-33a68fd32a57",
   "metadata": {},
   "outputs": [
    {
     "data": {
      "text/plain": [
       "array([[ 0.,  0.,  0., ...,  5.,  0.,  0.],\n",
       "       [ 0.,  0.,  6., ...,  0.,  0.,  0.],\n",
       "       [ 0.,  0.,  0., ..., 11.,  0.,  0.],\n",
       "       ...,\n",
       "       [ 0.,  0.,  0., ...,  5.,  0.,  0.],\n",
       "       [ 0.,  0.,  2., ...,  0.,  0.,  0.],\n",
       "       [ 0.,  0.,  0., ...,  0.,  0.,  0.]])"
      ]
     },
     "execution_count": 16,
     "metadata": {},
     "output_type": "execute_result"
    }
   ],
   "source": [
    "arr"
   ]
  },
  {
   "cell_type": "code",
   "execution_count": 17,
   "id": "25e0be81-11ed-4131-861f-7e34a87e178b",
   "metadata": {},
   "outputs": [
    {
     "data": {
      "image/png": "[encoded data removed]",
      "text/plain": [
       "<Figure size 2000x400 with 20 Axes>"
      ]
     },
     "metadata": {},
     "output_type": "display_data"
    }
   ],
   "source": [
    "fig = plt.figure(figsize=(20, 4))\n",
    "for index, image in enumerate(arr):\n",
    "    plt.subplot(1, len(arr), index + 1)\n",
    "    plt.imshow(np.reshape(image, (8, 8)), cmap=plt.cm.gray)\n",
    "    plt.title(f\"{index}\", fontsize=15)"
   ]
  },
  {
   "cell_type": "code",
   "execution_count": 18,
   "id": "61432cd3-2d10-46ac-b701-e53ab3af8266",
   "metadata": {},
   "outputs": [
    {
     "data": {
      "text/plain": [
       "[id {\n",
       "  signal_id: \"images-values-known\"\n",
       "  execution_id {\n",
       "    project: \"flytesnacks\"\n",
       "    domain: \"development\"\n",
       "    name: \"a646t6c76kvchvh2scld\"\n",
       "  }\n",
       "}\n",
       "type {\n",
       "  collection_type {\n",
       "    simple: INTEGER\n",
       "  }\n",
       "}\n",
       "]"
      ]
     },
     "execution_count": 18,
     "metadata": {},
     "output_type": "execute_result"
    }
   ],
   "source": [
    "r.list_signals(\"a646t6c76kvchvh2scld\")"
   ]
  },
  {
   "cell_type": "code",
   "execution_count": 20,
   "id": "a5e9c3d8-201d-4f49-8f39-3c846dfc85ac",
   "metadata": {},
   "outputs": [],
   "source": [
    "my_labels = [round(random.random() * 10) for i in range(0, len(arr))]"
   ]
  },
  {
   "cell_type": "code",
   "execution_count": 21,
   "id": "70ac0395-8463-4b1e-9fde-9348de631acb",
   "metadata": {},
   "outputs": [
    {
     "data": {
      "text/plain": [
       "[8, 5, 10, 6, 8, 1, 6, 0, 6, 4, 2, 5, 8, 2, 5, 6, 9, 7, 9, 2]"
      ]
     },
     "execution_count": 21,
     "metadata": {},
     "output_type": "execute_result"
    }
   ],
   "source": [
    "my_labels"
   ]
  },
  {
   "cell_type": "code",
   "execution_count": 22,
   "id": "c5819ed6-4336-4c4f-a89f-8f1df4fdfe68",
   "metadata": {},
   "outputs": [],
   "source": [
    "r.set_signal(\"images-values-known\", \"a646t6c76kvchvh2scld\", my_labels, python_type=typing.List[int])"
   ]
  },
  {
   "cell_type": "code",
   "execution_count": null,
   "id": "fc792e45-635d-40e8-803b-b25720058ad5",
   "metadata": {},
   "outputs": [],
   "source": []
  }
 ],
 "metadata": {
  "kernelspec": {
   "display_name": "Python 3 (ipykernel)",
   "language": "python",
   "name": "python3"
  },
  "language_info": {
   "codemirror_mode": {
    "name": "ipython",
    "version": 3
   },
   "file_extension": ".py",
   "mimetype": "text/x-python",
   "name": "python",
   "nbconvert_exporter": "python",
   "pygments_lexer": "ipython3",
   "version": "3.10.8"
  }
 },
 "nbformat": 4,
 "nbformat_minor": 5
}
